{
  "nbformat": 4,
  "nbformat_minor": 0,
  "metadata": {
    "colab": {
      "name": "ICP 13 L1",
      "provenance": [],
      "collapsed_sections": []
    },
    "kernelspec": {
      "name": "python3",
      "display_name": "Python 3"
    },
    "language_info": {
      "name": "python"
    }
  },
  "cells": [
    {
      "cell_type": "code",
      "metadata": {
        "id": "HCYWACReWy_4"
      },
      "source": [
        "from keras.layers import Input, Dense\n",
        "from keras.models import Model\n",
        "import matplotlib.pyplot as plt"
      ],
      "execution_count": 188,
      "outputs": []
    },
    {
      "cell_type": "code",
      "metadata": {
        "id": "ZxJc51UoYnF3"
      },
      "source": [
        "# this is the size of our encoded representations\n",
        "encoding_dim = 32  # 32 floats -> compression of factor 24.5, assuming the input is 784 floats\n"
      ],
      "execution_count": 189,
      "outputs": []
    },
    {
      "cell_type": "code",
      "metadata": {
        "id": "Xh2M_TRMlgKg"
      },
      "source": [
        "# this is our input placeholder\n",
        "input_img = Input(shape=(784,))\n",
        "# \"encoded\" is the encoded representation of the input\n",
        "encoded = Dense(encoding_dim, activation='relu')(input_img)\n",
        "# \"decoded\" is the lossy reconstruction of the input\n",
        "decoded = Dense(784, activation='sigmoid')(encoded)\n",
        "# this model maps an input to its reconstruction\n",
        "autoencoder = Model(input_img, decoded)\n",
        "# this model maps an input to its encoded representation\n",
        "# changed optomizer to adam as adadelta was having issues and loss to mean squared error \n",
        "autoencoder.compile(optimizer='adam', loss='mse', metrics=['accuracy'])"
      ],
      "execution_count": 190,
      "outputs": []
    },
    {
      "cell_type": "code",
      "metadata": {
        "id": "2R8KEySfYxxN"
      },
      "source": [
        "from keras.datasets import mnist, fashion_mnist\n",
        "import numpy as np\n",
        "(x_train, y_train), (x_test, y_test) = fashion_mnist.load_data()\n",
        "x_train = x_train.astype('float32') / 255.\n",
        "x_test = x_test.astype('float32') / 255.\n",
        "x_train = x_train.reshape((len(x_train), np.prod(x_train.shape[1:])))\n",
        "x_test = x_test.reshape((len(x_test), np.prod(x_test.shape[1:])))"
      ],
      "execution_count": 191,
      "outputs": []
    },
    {
      "cell_type": "code",
      "metadata": {
        "colab": {
          "base_uri": "https://localhost:8080/"
        },
        "id": "d42ey3AfY0yu",
        "outputId": "19640ec1-ac3d-479d-9ab2-7a7eee438e76"
      },
      "source": [
        "autoencoder.fit(x_train, x_train,\n",
        "                epochs=5,\n",
        "                batch_size=256,\n",
        "                shuffle=True,\n",
        "                validation_data=(x_test, x_test))"
      ],
      "execution_count": 192,
      "outputs": [
        {
          "output_type": "stream",
          "text": [
            "Epoch 1/5\n",
            "235/235 [==============================] - 2s 7ms/step - loss: 0.0923 - accuracy: 0.0035 - val_loss: 0.0343 - val_accuracy: 0.0109\n",
            "Epoch 2/5\n",
            "235/235 [==============================] - 2s 7ms/step - loss: 0.0314 - accuracy: 0.0121 - val_loss: 0.0253 - val_accuracy: 0.0117\n",
            "Epoch 3/5\n",
            "235/235 [==============================] - 2s 7ms/step - loss: 0.0239 - accuracy: 0.0151 - val_loss: 0.0207 - val_accuracy: 0.0151\n",
            "Epoch 4/5\n",
            "235/235 [==============================] - 2s 7ms/step - loss: 0.0198 - accuracy: 0.0150 - val_loss: 0.0179 - val_accuracy: 0.0180\n",
            "Epoch 5/5\n",
            "235/235 [==============================] - 2s 7ms/step - loss: 0.0173 - accuracy: 0.0167 - val_loss: 0.0164 - val_accuracy: 0.0175\n"
          ],
          "name": "stdout"
        },
        {
          "output_type": "execute_result",
          "data": {
            "text/plain": [
              "<tensorflow.python.keras.callbacks.History at 0x7f8916e6cc90>"
            ]
          },
          "metadata": {
            "tags": []
          },
          "execution_count": 192
        }
      ]
    },
    {
      "cell_type": "code",
      "metadata": {
        "colab": {
          "base_uri": "https://localhost:8080/",
          "height": 282
        },
        "id": "_OwyrXcOopL8",
        "outputId": "798fa23a-4ba3-4e59-932f-22cab0647a2a"
      },
      "source": [
        "# Original image\n",
        "plt.imshow(x_test[1].reshape(28,28), cmap=\"gray\")"
      ],
      "execution_count": 175,
      "outputs": [
        {
          "output_type": "execute_result",
          "data": {
            "text/plain": [
              "<matplotlib.image.AxesImage at 0x7f891d293250>"
            ]
          },
          "metadata": {
            "tags": []
          },
          "execution_count": 175
        },
        {
          "output_type": "display_data",
          "data": {
            "image/png": "[encoded data removed]",
            "text/plain": [
              "<Figure size 432x288 with 1 Axes>"
            ]
          },
          "metadata": {
            "tags": [],
            "needs_background": "light"
          }
        }
      ]
    },
    {
      "cell_type": "code",
      "metadata": {
        "colab": {
          "base_uri": "https://localhost:8080/",
          "height": 282
        },
        "id": "Bl9-Ehx7hjwo",
        "outputId": "0b43b5ca-549f-4771-8c43-75713f140c37"
      },
      "source": [
        "# Decoded image\n",
        "prediction = autoencoder.predict([x_test[1].reshape(1,784)])\n",
        "plt.imshow(prediction.reshape((28,28)), cmap=\"gray\")\n",
        "# print(prediction)"
      ],
      "execution_count": 177,
      "outputs": [
        {
          "output_type": "execute_result",
          "data": {
            "text/plain": [
              "<matplotlib.image.AxesImage at 0x7f891d195850>"
            ]
          },
          "metadata": {
            "tags": []
          },
          "execution_count": 177
        },
        {
          "output_type": "display_data",
          "data": {
            "image/png": "[encoded data removed]",
            "text/plain": [
              "<Figure size 432x288 with 1 Axes>"
            ]
          },
          "metadata": {
            "tags": [],
            "needs_background": "light"
          }
        }
      ]
    },
    {
      "cell_type": "code",
      "metadata": {
        "id": "DhbEX0g3s9nT"
      },
      "source": [
        "# this is our input placeholder\n",
        "input_img = Input(shape=(784,))\n",
        "# \"encoded\" is the encoded representation of the input\n",
        "encoded = Dense(encoding_dim, activation='relu')(input_img)\n",
        "# hidden layer matching encoded layer\n",
        "hidden = Dense(128, activation='relu')(encoded)\n",
        "# \"decoded\" is the lossy reconstruction of the input\n",
        "decoded = Dense(784, activation='sigmoid')(hidden)\n",
        "# this model maps an input to its reconstruction\n",
        "autoencoder = Model(input_img, decoded)\n",
        "# this model maps an input to its encoded representation\n",
        "# changed optomizer to adam as adadelta was having issues and loss to mean squared error \n",
        "autoencoder.compile(optimizer='adam', loss='mse', metrics=['accuracy'])"
      ],
      "execution_count": 193,
      "outputs": []
    },
    {
      "cell_type": "code",
      "metadata": {
        "id": "TcnWyE8wtG0l"
      },
      "source": [
        "from keras.datasets import mnist, fashion_mnist\n",
        "import numpy as np\n",
        "(x_train, y_train), (x_test, y_test) = fashion_mnist.load_data()\n",
        "x_train = x_train.astype('float32') / 255.\n",
        "x_test = x_test.astype('float32') / 255.\n",
        "x_train = x_train.reshape((len(x_train), np.prod(x_train.shape[1:])))\n",
        "x_test = x_test.reshape((len(x_test), np.prod(x_test.shape[1:])))"
      ],
      "execution_count": 194,
      "outputs": []
    },
    {
      "cell_type": "code",
      "metadata": {
        "colab": {
          "base_uri": "https://localhost:8080/"
        },
        "id": "UrDXR9-6tJQ5",
        "outputId": "0da6c7fe-ec88-428a-f44c-c5dde5951f98"
      },
      "source": [
        "autoencoder.fit(x_train, x_train,\n",
        "                epochs=5,\n",
        "                batch_size=256,\n",
        "                shuffle=True,\n",
        "                validation_data=(x_test, x_test))"
      ],
      "execution_count": 195,
      "outputs": [
        {
          "output_type": "stream",
          "text": [
            "Epoch 1/5\n",
            "235/235 [==============================] - 3s 10ms/step - loss: 0.0802 - accuracy: 0.0058 - val_loss: 0.0262 - val_accuracy: 0.0155\n",
            "Epoch 2/5\n",
            "235/235 [==============================] - 2s 10ms/step - loss: 0.0240 - accuracy: 0.0137 - val_loss: 0.0200 - val_accuracy: 0.0128\n",
            "Epoch 3/5\n",
            "235/235 [==============================] - 2s 10ms/step - loss: 0.0192 - accuracy: 0.0122 - val_loss: 0.0175 - val_accuracy: 0.0156\n",
            "Epoch 4/5\n",
            "235/235 [==============================] - 2s 10ms/step - loss: 0.0170 - accuracy: 0.0155 - val_loss: 0.0161 - val_accuracy: 0.0164\n",
            "Epoch 5/5\n",
            "235/235 [==============================] - 2s 9ms/step - loss: 0.0158 - accuracy: 0.0164 - val_loss: 0.0151 - val_accuracy: 0.0206\n"
          ],
          "name": "stdout"
        },
        {
          "output_type": "execute_result",
          "data": {
            "text/plain": [
              "<tensorflow.python.keras.callbacks.History at 0x7f8916b7bf50>"
            ]
          },
          "metadata": {
            "tags": []
          },
          "execution_count": 195
        }
      ]
    },
    {
      "cell_type": "code",
      "metadata": {
        "colab": {
          "base_uri": "https://localhost:8080/",
          "height": 282
        },
        "id": "jvSsHOK6tNF-",
        "outputId": "78261c32-2e63-4ea9-9f39-2c9fc866d73a"
      },
      "source": [
        "# Original image\n",
        "plt.imshow(x_test[0].reshape(28,28), cmap=\"gray\")"
      ],
      "execution_count": 206,
      "outputs": [
        {
          "output_type": "execute_result",
          "data": {
            "text/plain": [
              "<matplotlib.image.AxesImage at 0x7f8912e51190>"
            ]
          },
          "metadata": {
            "tags": []
          },
          "execution_count": 206
        },
        {
          "output_type": "display_data",
          "data": {
            "image/png": "[encoded data removed]",
            "text/plain": [
              "<Figure size 432x288 with 1 Axes>"
            ]
          },
          "metadata": {
            "tags": [],
            "needs_background": "light"
          }
        }
      ]
    },
    {
      "cell_type": "code",
      "metadata": {
        "colab": {
          "base_uri": "https://localhost:8080/",
          "height": 282
        },
        "id": "F1vm1OwntQrM",
        "outputId": "52421c66-7ccb-440a-b0a9-79745c383ce0"
      },
      "source": [
        "# Decoded image\n",
        "prediction = autoencoder.predict([x_test[0].reshape(1,784)])\n",
        "plt.imshow(prediction.reshape(28,28), cmap=\"gray\")\n",
        "# print(prediction)"
      ],
      "execution_count": 207,
      "outputs": [
        {
          "output_type": "execute_result",
          "data": {
            "text/plain": [
              "<matplotlib.image.AxesImage at 0x7f8936bda0d0>"
            ]
          },
          "metadata": {
            "tags": []
          },
          "execution_count": 207
        },
        {
          "output_type": "display_data",
          "data": {
            "image/png": "[encoded data removed]",
            "text/plain": [
              "<Figure size 432x288 with 1 Axes>"
            ]
          },
          "metadata": {
            "tags": [],
            "needs_background": "light"
          }
        }
      ]
    }
  ]
}