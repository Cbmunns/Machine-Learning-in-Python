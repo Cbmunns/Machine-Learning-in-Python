{
  "nbformat": 4,
  "nbformat_minor": 0,
  "metadata": {
    "colab": {
      "name": "ICP10.ipynb",
      "provenance": [],
      "collapsed_sections": []
    },
    "kernelspec": {
      "name": "python3",
      "display_name": "Python 3"
    },
    "language_info": {
      "name": "python"
    },
    "accelerator": "GPU"
  },
  "cells": [
    {
      "cell_type": "markdown",
      "metadata": {
        "id": "L_ntvXs-MTIW"
      },
      "source": [
        "**Lab 1**"
      ]
    },
    {
      "cell_type": "code",
      "metadata": {
        "id": "zJ1JYtV8qC-2"
      },
      "source": [
        "from keras.models import Sequential\n",
        "from keras import layers\n",
        "from keras.preprocessing.text import Tokenizer\n",
        "import pandas as pd\n",
        "from sklearn import preprocessing\n",
        "from sklearn.model_selection import train_test_split"
      ],
      "execution_count": 2,
      "outputs": []
    },
    {
      "cell_type": "code",
      "metadata": {
        "colab": {
          "base_uri": "https://localhost:8080/"
        },
        "id": "_7INPJc0SIGy",
        "outputId": "60706fa6-dd93-4751-b0ec-fe76182b0617"
      },
      "source": [
        "df = pd.read_csv('imdb_master.csv',encoding='latin-1')\n",
        "print(df.head())"
      ],
      "execution_count": 3,
      "outputs": [
        {
          "output_type": "stream",
          "text": [
            "   Unnamed: 0  type  ... label         file\n",
            "0           0  test  ...   neg      0_2.txt\n",
            "1           1  test  ...   neg  10000_4.txt\n",
            "2           2  test  ...   neg  10001_1.txt\n",
            "3           3  test  ...   neg  10002_3.txt\n",
            "4           4  test  ...   neg  10003_3.txt\n",
            "\n",
            "[5 rows x 5 columns]\n"
          ],
          "name": "stdout"
        }
      ]
    },
    {
      "cell_type": "markdown",
      "metadata": {
        "id": "FJFFme7unxXh"
      },
      "source": [
        "**Mistake 1 useless data**  \n",
        "Looking at the target we see that there is a value unsup that mostly likely has  \n",
        " no determinate value and makes up half the dataset which could heavily skew the   \n",
        "   rest so we remove it"
      ]
    },
    {
      "cell_type": "code",
      "metadata": {
        "colab": {
          "base_uri": "https://localhost:8080/"
        },
        "id": "kb6QzcBHnpsi",
        "outputId": "fceb4521-7a23-46b7-e4b3-69b162ec1145"
      },
      "source": [
        "labels = df['label'].value_counts()\n",
        "print(labels)\n",
        "df = df[df.label != 'unsup']"
      ],
      "execution_count": 4,
      "outputs": [
        {
          "output_type": "stream",
          "text": [
            "unsup    50000\n",
            "neg      25000\n",
            "pos      25000\n",
            "Name: label, dtype: int64\n"
          ],
          "name": "stdout"
        }
      ]
    },
    {
      "cell_type": "code",
      "metadata": {
        "id": "Lsepm_ehnth5"
      },
      "source": [
        "sentences = df['review'].values\n",
        "y = df['label'].values"
      ],
      "execution_count": 5,
      "outputs": []
    },
    {
      "cell_type": "code",
      "metadata": {
        "id": "XCgYkerjSLJs"
      },
      "source": [
        "#tokenizing data\n",
        "tokenizer = Tokenizer(num_words=2000)\n",
        "tokenizer.fit_on_texts(sentences)\n",
        "#getting the vocabulary of data\n",
        "sentences = tokenizer.texts_to_matrix(sentences)"
      ],
      "execution_count": 6,
      "outputs": []
    },
    {
      "cell_type": "code",
      "metadata": {
        "colab": {
          "base_uri": "https://localhost:8080/"
        },
        "id": "jkUqCcD1SNK-",
        "outputId": "05fc6f08-0062-4be9-af64-4763e5d290da"
      },
      "source": [
        "le = preprocessing.LabelEncoder()\n",
        "y = le.fit_transform(y)\n",
        "print(y)\n",
        "X_train, X_test, y_train, y_test = train_test_split(sentences, y, test_size=0.25, random_state=1000)"
      ],
      "execution_count": 7,
      "outputs": [
        {
          "output_type": "stream",
          "text": [
            "[0 0 0 ... 1 1 1]\n"
          ],
          "name": "stdout"
        }
      ]
    },
    {
      "cell_type": "markdown",
      "metadata": {
        "id": "TBKrXo0Ro1sf"
      },
      "source": [
        "**Mistake 2 input dimension**  \n",
        "The input dimension was undeclared so we examine the data to set it for the  \n",
        "network"
      ]
    },
    {
      "cell_type": "code",
      "metadata": {
        "colab": {
          "base_uri": "https://localhost:8080/"
        },
        "id": "hVdSWSbVTXZy",
        "outputId": "80763f8e-8614-4ec4-a429-39c8aa2cc7b9"
      },
      "source": [
        "print(X_train)\n",
        "print(X_train.shape)\n",
        "input_dim = 2000\n"
      ],
      "execution_count": 33,
      "outputs": [
        {
          "output_type": "stream",
          "text": [
            "[[0. 1. 1. ... 0. 0. 0.]\n",
            " [0. 1. 1. ... 0. 0. 0.]\n",
            " [0. 1. 1. ... 0. 0. 0.]\n",
            " ...\n",
            " [0. 1. 1. ... 0. 0. 0.]\n",
            " [0. 1. 1. ... 0. 0. 0.]\n",
            " [0. 1. 1. ... 0. 0. 0.]]\n",
            "(37500, 2000)\n"
          ],
          "name": "stdout"
        }
      ]
    },
    {
      "cell_type": "markdown",
      "metadata": {
        "id": "lYO0mMl8pOgo"
      },
      "source": [
        "**Mistake 3 output layer activation**  \n",
        "Sigmoid is the improper activation so we replace with softmax and change last layer output dimension to 2\n",
        "\n",
        "**Mistake 1 adjustment**  \n",
        "Since we removed one of the labels we are only evaluating 2 value so we change  \n",
        " the size of the output layer from 3 to 2\n"
      ]
    },
    {
      "cell_type": "code",
      "metadata": {
        "colab": {
          "base_uri": "https://localhost:8080/"
        },
        "id": "i1VTgJv7SPHC",
        "outputId": "c5295caf-8c13-4a55-83e1-c1cdb3b1f666"
      },
      "source": [
        "# Number of features\n",
        "print(input_dim)\n",
        "model = Sequential()\n",
        "model.add(layers.Dense(300,input_dim=input_dim, activation='relu'))\n",
        "model.add(layers.Dense(2, activation='softmax'))\n",
        "model.compile(loss='sparse_categorical_crossentropy',optimizer='adam',metrics=['acc'])\n",
        "history=model.fit(X_train,y_train, epochs=5, verbose=True, validation_data=(X_test,y_test), batch_size=256)\n"
      ],
      "execution_count": 34,
      "outputs": [
        {
          "output_type": "stream",
          "text": [
            "2000\n",
            "Epoch 1/5\n",
            "147/147 [==============================] - 1s 5ms/step - loss: 0.4325 - acc: 0.7944 - val_loss: 0.3019 - val_acc: 0.8770\n",
            "Epoch 2/5\n",
            "147/147 [==============================] - 1s 4ms/step - loss: 0.2479 - acc: 0.8997 - val_loss: 0.2896 - val_acc: 0.8788\n",
            "Epoch 3/5\n",
            "147/147 [==============================] - 1s 4ms/step - loss: 0.2003 - acc: 0.9230 - val_loss: 0.2951 - val_acc: 0.8778\n",
            "Epoch 4/5\n",
            "147/147 [==============================] - 1s 4ms/step - loss: 0.1377 - acc: 0.9549 - val_loss: 0.3057 - val_acc: 0.8758\n",
            "Epoch 5/5\n",
            "147/147 [==============================] - 1s 4ms/step - loss: 0.0738 - acc: 0.9842 - val_loss: 0.3380 - val_acc: 0.8768\n"
          ],
          "name": "stdout"
        }
      ]
    },
    {
      "cell_type": "code",
      "metadata": {
        "colab": {
          "base_uri": "https://localhost:8080/",
          "height": 626
        },
        "id": "sHmhkpyjrH9S",
        "outputId": "e36ccc72-c9fd-4581-f411-bb8653d28de1"
      },
      "source": [
        "import matplotlib.pyplot as plt\n",
        "\n",
        "[test_loss, test_acc] = model.evaluate(X_test, y_test)\n",
        "print(\"Evaluation result on Test Data : Loss = {}, accuracy = {}\".format(test_loss, test_acc), '\\n')\n",
        "\n",
        "# summarize history for accuracy\n",
        "plt.plot(history.history['acc'])\n",
        "plt.plot(history.history['val_acc'])\n",
        "plt.title('model accuracy')\n",
        "plt.ylabel('accuracy')\n",
        "plt.xlabel('epoch')\n",
        "plt.legend(['train', 'validation'], loc='upper left')\n",
        "plt.show()\n",
        "\n",
        "# summarize history for loss\n",
        "plt.plot(history.history['loss'])\n",
        "plt.plot(history.history['val_loss'])\n",
        "plt.title('model loss')\n",
        "plt.ylabel('loss')\n",
        "plt.xlabel('epoch')\n",
        "plt.legend(['train', 'validation'], loc='upper left')\n",
        "plt.show()"
      ],
      "execution_count": 38,
      "outputs": [
        {
          "output_type": "stream",
          "text": [
            "391/391 [==============================] - 1s 2ms/step - loss: 0.3380 - acc: 0.8768\n",
            "Evaluation result on Test Data : Loss = 0.33798539638519287, accuracy = 0.876800000667572 \n",
            "\n"
          ],
          "name": "stdout"
        },
        {
          "output_type": "display_data",
          "data": {
            "image/png": "[encoded data removed]",
            "text/plain": [
              "<Figure size 432x288 with 1 Axes>"
            ]
          },
          "metadata": {
            "tags": [],
            "needs_background": "light"
          }
        },
        {
          "output_type": "display_data",
          "data": {
            "image/png": "[encoded data removed]",
            "text/plain": [
              "<Figure size 432x288 with 1 Axes>"
            ]
          },
          "metadata": {
            "tags": [],
            "needs_background": "light"
          }
        }
      ]
    },
    {
      "cell_type": "markdown",
      "metadata": {
        "id": "rSNuuu2h5_X-"
      },
      "source": [
        "**Lab 2**  \n",
        "\n",
        "Using this source as well as the powerpoint example  \n",
        "\n",
        "https://machinelearningmastery.com/use-word-embedding-layers-deep-learning-keras/"
      ]
    },
    {
      "cell_type": "code",
      "metadata": {
        "colab": {
          "base_uri": "https://localhost:8080/"
        },
        "id": "B0nNU1MauAU8",
        "outputId": "fb364588-96dd-4cc5-f10e-59fab15d1977"
      },
      "source": [
        "from keras.preprocessing.sequence import pad_sequences\n",
        "from keras.layers import Flatten\n",
        "from keras.layers import Dropout\n",
        "from keras.layers.embeddings import Embedding\n",
        "import tensorflow as tf\n",
        "\n",
        "# Standard script to load GPU\n",
        "physical_devices = tf.config.experimental.list_physical_devices('GPU')\n",
        "print(\"Num GPUS Available: \", len(physical_devices))\n",
        "tf.config.experimental.set_memory_growth(physical_devices[0], True)\n",
        "\n",
        "device_name = tf.test.gpu_device_name()\n",
        "if device_name != '/device:GPU:0':\n",
        "  raise SystemError('GPU device not found')\n",
        "print('Found GPU at: {}'.format(device_name))"
      ],
      "execution_count": 8,
      "outputs": [
        {
          "output_type": "stream",
          "text": [
            "Num GPUS Available:  1\n",
            "Found GPU at: /device:GPU:0\n"
          ],
          "name": "stdout"
        }
      ]
    },
    {
      "cell_type": "code",
      "metadata": {
        "id": "R7SRNjVp2JbB"
      },
      "source": [
        "# Reset sentences\n",
        "sentences = df['review'].values\n",
        "\n",
        "# Prepping data for embedding layer\n",
        "max_review_len = max(len(s.split()) for s in sentences)\n",
        "vocab_size = len(tokenizer.word_index)+1\n",
        "sentences = tokenizer.texts_to_sequences(sentences)\n",
        "padded_docs = pad_sequences(sentences, maxlen=max_review_len)\n",
        "# Split data\n",
        "X_train, X_test, y_train, y_test = train_test_split(padded_docs, y, test_size=0.25, random_state=1000)"
      ],
      "execution_count": 9,
      "outputs": []
    },
    {
      "cell_type": "code",
      "metadata": {
        "colab": {
          "base_uri": "https://localhost:8080/"
        },
        "id": "8G7BzYbVuK3Y",
        "outputId": "b36d248d-1aca-46d1-9321-7a4702ea261c"
      },
      "source": [
        "with tf.device('/gpu:0'):\n",
        "  model = Sequential()\n",
        "  model.add(Embedding(vocab_size, 50, input_length=max_review_len))\n",
        "  model.add(Flatten())\n",
        "  model.add(layers.Dense(300, activation='relu'))\n",
        "  # Switch back to sigmoid for a binary model\n",
        "  model.add(layers.Dense(1, activation='sigmoid'))\n",
        "  model.compile(loss='binary_crossentropy',optimizer='adam',metrics=['acc'])\n",
        "  history=model.fit(X_train,y_train, epochs=5, verbose=True, validation_data=(X_test,y_test), batch_size=256)"
      ],
      "execution_count": 10,
      "outputs": [
        {
          "output_type": "stream",
          "text": [
            "Epoch 1/5\n",
            "147/147 [==============================] - 23s 136ms/step - loss: 1.2038 - acc: 0.5694 - val_loss: 0.3341 - val_acc: 0.8604\n",
            "Epoch 2/5\n",
            "147/147 [==============================] - 19s 132ms/step - loss: 0.2976 - acc: 0.8768 - val_loss: 0.2993 - val_acc: 0.8738\n",
            "Epoch 3/5\n",
            "147/147 [==============================] - 19s 132ms/step - loss: 0.2450 - acc: 0.9014 - val_loss: 0.2789 - val_acc: 0.8842\n",
            "Epoch 4/5\n",
            "147/147 [==============================] - 19s 132ms/step - loss: 0.2017 - acc: 0.9227 - val_loss: 0.2834 - val_acc: 0.8824\n",
            "Epoch 5/5\n",
            "147/147 [==============================] - 19s 132ms/step - loss: 0.1668 - acc: 0.9405 - val_loss: 0.2928 - val_acc: 0.8808\n"
          ],
          "name": "stdout"
        }
      ]
    },
    {
      "cell_type": "code",
      "metadata": {
        "colab": {
          "base_uri": "https://localhost:8080/",
          "height": 626
        },
        "id": "QdRTQt0z6LRJ",
        "outputId": "08787c3d-46ec-493a-d0fe-c884972e273b"
      },
      "source": [
        "import matplotlib.pyplot as plt\n",
        "\n",
        "[test_loss, test_acc] = model.evaluate(X_test, y_test)\n",
        "print(\"Evaluation result on Test Data : Loss = {}, accuracy = {}\".format(test_loss, test_acc), '\\n')\n",
        "\n",
        "# summarize history for accuracy\n",
        "plt.plot(history.history['acc'])\n",
        "plt.plot(history.history['val_acc'])\n",
        "plt.title('model accuracy')\n",
        "plt.ylabel('accuracy')\n",
        "plt.xlabel('epoch')\n",
        "plt.legend(['train', 'validation'], loc='upper left')\n",
        "plt.show()\n",
        "\n",
        "# summarize history for loss\n",
        "plt.plot(history.history['loss'])\n",
        "plt.plot(history.history['val_loss'])\n",
        "plt.title('model loss')\n",
        "plt.ylabel('loss')\n",
        "plt.xlabel('epoch')\n",
        "plt.legend(['train', 'validation'], loc='upper left')\n",
        "plt.show()"
      ],
      "execution_count": 11,
      "outputs": [
        {
          "output_type": "stream",
          "text": [
            "391/391 [==============================] - 2s 6ms/step - loss: 0.2928 - acc: 0.8808\n",
            "Evaluation result on Test Data : Loss = 0.2928091883659363, accuracy = 0.8808000087738037 \n",
            "\n"
          ],
          "name": "stdout"
        },
        {
          "output_type": "display_data",
          "data": {
            "image/png": "[encoded data removed]",
            "text/plain": [
              "<Figure size 432x288 with 1 Axes>"
            ]
          },
          "metadata": {
            "tags": [],
            "needs_background": "light"
          }
        },
        {
          "output_type": "display_data",
          "data": {
            "image/png": "[encoded data removed]",
            "text/plain": [
              "<Figure size 432x288 with 1 Axes>"
            ]
          },
          "metadata": {
            "tags": [],
            "needs_background": "light"
          }
        }
      ]
    }
  ]
}