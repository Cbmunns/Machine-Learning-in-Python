{
  "nbformat": 4,
  "nbformat_minor": 0,
  "metadata": {
    "accelerator": "GPU",
    "colab": {
      "name": "ICP10pt2",
      "provenance": [],
      "collapsed_sections": []
    },
    "kernelspec": {
      "display_name": "Python 3",
      "name": "python3"
    },
    "language_info": {
      "name": "python"
    }
  },
  "cells": [
    {
      "cell_type": "code",
      "metadata": {
        "colab": {
          "base_uri": "https://localhost:8080/"
        },
        "id": "0K9JY5PY7yCb",
        "outputId": "d0723501-8a2a-469c-8760-52280417d80c"
      },
      "source": [
        "from keras.models import Sequential\n",
        "from keras import layers\n",
        "from keras.preprocessing.text import Tokenizer\n",
        "import pandas as pd\n",
        "import numpy as np\n",
        "from sklearn import preprocessing\n",
        "from sklearn.model_selection import train_test_split\n",
        "from keras.preprocessing.sequence import pad_sequences\n",
        "from keras.layers import Flatten\n",
        "from keras.layers import Dropout\n",
        "from keras.layers.embeddings import Embedding\n",
        "import tensorflow as tf\n",
        "import matplotlib.pyplot as plt\n",
        "\n",
        "physical_devices = tf.config.experimental.list_physical_devices('GPU')\n",
        "print(\"Num GPUS Available: \", len(physical_devices))\n",
        "tf.config.experimental.set_memory_growth(physical_devices[0], True)\n",
        "\n",
        "device_name = tf.test.gpu_device_name()\n",
        "if device_name != '/device:GPU:0':\n",
        "  raise SystemError('GPU device not found')\n",
        "print('Found GPU at: {}'.format(device_name))"
      ],
      "execution_count": 76,
      "outputs": [
        {
          "output_type": "stream",
          "text": [
            "Num GPUS Available:  1\n",
            "Found GPU at: /device:GPU:0\n"
          ],
          "name": "stdout"
        }
      ]
    },
    {
      "cell_type": "code",
      "metadata": {
        "id": "KBZMYcPL75Cq"
      },
      "source": [
        "from sklearn.datasets import fetch_20newsgroups\n",
        "# We want to use all categories  so we don't have to declare anything specific for it\n",
        "newsgroups_train = fetch_20newsgroups(subset='train', shuffle=True)"
      ],
      "execution_count": 77,
      "outputs": []
    },
    {
      "cell_type": "code",
      "metadata": {
        "colab": {
          "base_uri": "https://localhost:8080/"
        },
        "id": "ljqSoON6-cAP",
        "outputId": "959e4964-5952-4365-f111-6e731697d0ed"
      },
      "source": [
        "# Set the features to sentences then see a preview\n",
        "sentences = newsgroups_train.data\n",
        "print(sentences[1])\n",
        "\n",
        "# Set the labels as the target then get a preview and see how many unique values we have\n",
        "y = newsgroups_train.target\n",
        "print(y[1])\n",
        "print(np.unique(y))\n"
      ],
      "execution_count": 78,
      "outputs": [
        {
          "output_type": "stream",
          "text": [
            "From: guykuo@carson.u.washington.edu (Guy Kuo)\n",
            "Subject: SI Clock Poll - Final Call\n",
            "Summary: Final call for SI clock reports\n",
            "Keywords: SI,acceleration,clock,upgrade\n",
            "Article-I.D.: shelley.1qvfo9INNc3s\n",
            "Organization: University of Washington\n",
            "Lines: 11\n",
            "NNTP-Posting-Host: carson.u.washington.edu\n",
            "\n",
            "A fair number of brave souls who upgraded their SI clock oscillator have\n",
            "shared their experiences for this poll. Please send a brief message detailing\n",
            "your experiences with the procedure. Top speed attained, CPU rated speed,\n",
            "add on cards and adapters, heat sinks, hour of usage per day, floppy disk\n",
            "functionality with 800 and 1.4 m floppies are especially requested.\n",
            "\n",
            "I will be summarizing in the next two days, so please add to the network\n",
            "knowledge base if you have done the clock upgrade and haven't answered this\n",
            "poll. Thanks.\n",
            "\n",
            "Guy Kuo <guykuo@u.washington.edu>\n",
            "\n",
            "4\n",
            "[ 0  1  2  3  4  5  6  7  8  9 10 11 12 13 14 15 16 17 18 19]\n"
          ],
          "name": "stdout"
        }
      ]
    },
    {
      "cell_type": "code",
      "metadata": {
        "id": "pZGWe2_E_ZG2",
        "colab": {
          "base_uri": "https://localhost:8080/"
        },
        "outputId": "029ef9d7-e628-4c06-8732-d4fc1f4a5e4b"
      },
      "source": [
        "# Tokenizing data\n",
        "tokenizer = Tokenizer(num_words=6000)\n",
        "tokenizer.fit_on_texts(sentences)\n",
        "\n",
        "# Prepping data for embedding layer\n",
        "max_review_len = max(len(s.split()) for s in sentences)\n",
        "vocab_size = len(tokenizer.word_index)+1\n",
        "sentences = tokenizer.texts_to_sequences(sentences)\n",
        "padded_docs = pad_sequences(sentences, maxlen=max_review_len)\n",
        "\n",
        "print(padded_docs[1])\n",
        "\n",
        "# Split the data  \n",
        "X_train, X_test, y_train, y_test = train_test_split(padded_docs, y, test_size=0.25, random_state=1000)"
      ],
      "execution_count": 79,
      "outputs": [
        {
          "output_type": "stream",
          "text": [
            "[  0   0   0 ... 118 441  15]\n"
          ],
          "name": "stdout"
        }
      ]
    },
    {
      "cell_type": "markdown",
      "metadata": {
        "id": "2ttCp3JZISxn"
      },
      "source": [
        "Here we add the embedding and flattening layers to our model. Because we're evaluating 20  categories we revert to softmax and sparse categorical crossentropy."
      ]
    },
    {
      "cell_type": "code",
      "metadata": {
        "colab": {
          "base_uri": "https://localhost:8080/"
        },
        "id": "oKwgNZkGAN52",
        "outputId": "d6528f9d-c6cd-4403-ae57-d279620b8ebd"
      },
      "source": [
        "with tf.device('/gpu:0'):\n",
        "  model = Sequential()\n",
        "  model.add(Embedding(vocab_size, 50, input_length=max_review_len))\n",
        "  model.add(Flatten())\n",
        "  model.add(layers.Dense(300, activation='relu'))\n",
        "  model.add(layers.Dense(20, activation='softmax'))\n",
        "  model.compile(loss='sparse_categorical_crossentropy',optimizer='adam',metrics=['acc'])\n",
        "  history=model.fit(X_train,y_train, epochs=30, verbose=True, validation_data=(X_test,y_test), batch_size=256)"
      ],
      "execution_count": 80,
      "outputs": [
        {
          "output_type": "stream",
          "text": [
            "Epoch 1/30\n",
            "34/34 [==============================] - 15s 436ms/step - loss: 18.1221 - acc: 0.0515 - val_loss: 3.1109 - val_acc: 0.0329\n",
            "Epoch 2/30\n",
            "34/34 [==============================] - 15s 431ms/step - loss: 2.9974 - acc: 0.0652 - val_loss: 2.9822 - val_acc: 0.0923\n",
            "Epoch 3/30\n",
            "34/34 [==============================] - 15s 433ms/step - loss: 2.9531 - acc: 0.0813 - val_loss: 2.9508 - val_acc: 0.0802\n",
            "Epoch 4/30\n",
            "34/34 [==============================] - 15s 432ms/step - loss: 2.8962 - acc: 0.0900 - val_loss: 2.8509 - val_acc: 0.1166\n",
            "Epoch 5/30\n",
            "34/34 [==============================] - 15s 432ms/step - loss: 2.7240 - acc: 0.1533 - val_loss: 2.6713 - val_acc: 0.1828\n",
            "Epoch 6/30\n",
            "34/34 [==============================] - 15s 434ms/step - loss: 2.4583 - acc: 0.2532 - val_loss: 2.3258 - val_acc: 0.3121\n",
            "Epoch 7/30\n",
            "34/34 [==============================] - 15s 431ms/step - loss: 2.0168 - acc: 0.4420 - val_loss: 1.9663 - val_acc: 0.3899\n",
            "Epoch 8/30\n",
            "34/34 [==============================] - 15s 433ms/step - loss: 1.5354 - acc: 0.6059 - val_loss: 1.6354 - val_acc: 0.5055\n",
            "Epoch 9/30\n",
            "34/34 [==============================] - 15s 433ms/step - loss: 1.1477 - acc: 0.7262 - val_loss: 1.4215 - val_acc: 0.5627\n",
            "Epoch 10/30\n",
            "34/34 [==============================] - 15s 434ms/step - loss: 0.8712 - acc: 0.7986 - val_loss: 1.3610 - val_acc: 0.5673\n",
            "Epoch 11/30\n",
            "34/34 [==============================] - 15s 433ms/step - loss: 0.6684 - acc: 0.8594 - val_loss: 1.1326 - val_acc: 0.6660\n",
            "Epoch 12/30\n",
            "34/34 [==============================] - 15s 434ms/step - loss: 0.4728 - acc: 0.9188 - val_loss: 1.1127 - val_acc: 0.6610\n",
            "Epoch 13/30\n",
            "34/34 [==============================] - 15s 434ms/step - loss: 0.3749 - acc: 0.9418 - val_loss: 1.0114 - val_acc: 0.7031\n",
            "Epoch 14/30\n",
            "34/34 [==============================] - 15s 434ms/step - loss: 0.2694 - acc: 0.9675 - val_loss: 1.0125 - val_acc: 0.6861\n",
            "Epoch 15/30\n",
            "34/34 [==============================] - 15s 432ms/step - loss: 0.2122 - acc: 0.9766 - val_loss: 0.9794 - val_acc: 0.7098\n",
            "Epoch 16/30\n",
            "34/34 [==============================] - 15s 433ms/step - loss: 0.1616 - acc: 0.9829 - val_loss: 0.9677 - val_acc: 0.7140\n",
            "Epoch 17/30\n",
            "34/34 [==============================] - 15s 441ms/step - loss: 0.1183 - acc: 0.9922 - val_loss: 0.9385 - val_acc: 0.7176\n",
            "Epoch 18/30\n",
            "34/34 [==============================] - 15s 432ms/step - loss: 0.0918 - acc: 0.9955 - val_loss: 0.9464 - val_acc: 0.7169\n",
            "Epoch 19/30\n",
            "34/34 [==============================] - 15s 433ms/step - loss: 0.0764 - acc: 0.9968 - val_loss: 0.9461 - val_acc: 0.7154\n",
            "Epoch 20/30\n",
            "34/34 [==============================] - 15s 434ms/step - loss: 0.0586 - acc: 0.9984 - val_loss: 0.9509 - val_acc: 0.7211\n",
            "Epoch 21/30\n",
            "34/34 [==============================] - 15s 434ms/step - loss: 0.0514 - acc: 0.9979 - val_loss: 0.9406 - val_acc: 0.7285\n",
            "Epoch 22/30\n",
            "34/34 [==============================] - 15s 433ms/step - loss: 0.0404 - acc: 0.9995 - val_loss: 0.9424 - val_acc: 0.7292\n",
            "Epoch 23/30\n",
            "34/34 [==============================] - 15s 432ms/step - loss: 0.0344 - acc: 0.9999 - val_loss: 0.9559 - val_acc: 0.7207\n",
            "Epoch 24/30\n",
            "34/34 [==============================] - 15s 432ms/step - loss: 0.0268 - acc: 0.9999 - val_loss: 0.9678 - val_acc: 0.7250\n",
            "Epoch 25/30\n",
            "34/34 [==============================] - 15s 433ms/step - loss: 0.0239 - acc: 1.0000 - val_loss: 0.9565 - val_acc: 0.7257\n",
            "Epoch 26/30\n",
            "34/34 [==============================] - 15s 433ms/step - loss: 0.0201 - acc: 1.0000 - val_loss: 0.9590 - val_acc: 0.7250\n",
            "Epoch 27/30\n",
            "34/34 [==============================] - 15s 434ms/step - loss: 0.0187 - acc: 1.0000 - val_loss: 0.9629 - val_acc: 0.7306\n",
            "Epoch 28/30\n",
            "34/34 [==============================] - 15s 435ms/step - loss: 0.0150 - acc: 1.0000 - val_loss: 0.9653 - val_acc: 0.7278\n",
            "Epoch 29/30\n",
            "34/34 [==============================] - 15s 433ms/step - loss: 0.0129 - acc: 1.0000 - val_loss: 0.9787 - val_acc: 0.7236\n",
            "Epoch 30/30\n",
            "34/34 [==============================] - 15s 433ms/step - loss: 0.0118 - acc: 1.0000 - val_loss: 0.9781 - val_acc: 0.7275\n"
          ],
          "name": "stdout"
        }
      ]
    },
    {
      "cell_type": "code",
      "metadata": {
        "colab": {
          "base_uri": "https://localhost:8080/"
        },
        "id": "rtUJgb5pj5AE",
        "outputId": "0535361f-4fec-4933-dce9-edc0253dedfc"
      },
      "source": [
        "# Showing the overall accuracy of the model\n",
        "[test_loss, test_acc] = model.evaluate(X_test, y_test)\n",
        "print(\"Evaluation result on Test Data : Loss = {}, accuracy = {}\".format(test_loss, test_acc), '\\n')\n"
      ],
      "execution_count": 83,
      "outputs": [
        {
          "output_type": "stream",
          "text": [
            "89/89 [==============================] - 2s 20ms/step - loss: 0.9781 - acc: 0.7275\n",
            "Evaluation result on Test Data : Loss = 0.9780789613723755, accuracy = 0.7274655103683472 \n",
            "\n"
          ],
          "name": "stdout"
        }
      ]
    },
    {
      "cell_type": "code",
      "metadata": {
        "id": "d8gx9-z1FY_t",
        "colab": {
          "base_uri": "https://localhost:8080/",
          "height": 573
        },
        "outputId": "d79e8892-4945-4ea5-d0dd-26114b355758"
      },
      "source": [
        "# summarize history for accuracy\n",
        "plt.plot(history.history['acc'])\n",
        "plt.plot(history.history['val_acc'])\n",
        "plt.title('model accuracy')\n",
        "plt.ylabel('accuracy')\n",
        "plt.xlabel('epoch')\n",
        "plt.legend(['train', 'validation'], loc='upper left')\n",
        "plt.show()\n",
        "\n",
        "# summarize history for loss\n",
        "plt.plot(history.history['loss'])\n",
        "plt.plot(history.history['val_loss'])\n",
        "plt.title('model loss')\n",
        "plt.ylabel('loss')\n",
        "plt.xlabel('epoch')\n",
        "plt.legend(['train', 'validation'], loc='upper left')\n",
        "plt.show()"
      ],
      "execution_count": 84,
      "outputs": [
        {
          "output_type": "display_data",
          "data": {
            "image/png": "[encoded data removed]",
            "text/plain": [
              "<Figure size 432x288 with 1 Axes>"
            ]
          },
          "metadata": {
            "tags": [],
            "needs_background": "light"
          }
        },
        {
          "output_type": "display_data",
          "data": {
            "image/png": "[encoded data removed]",
            "text/plain": [
              "<Figure size 432x288 with 1 Axes>"
            ]
          },
          "metadata": {
            "tags": [],
            "needs_background": "light"
          }
        }
      ]
    }
  ]
}