{
  "nbformat": 4,
  "nbformat_minor": 0,
  "metadata": {
    "colab": {
      "name": "ICP11",
      "provenance": []
    },
    "kernelspec": {
      "name": "python3",
      "display_name": "Python 3"
    },
    "language_info": {
      "name": "python"
    },
    "accelerator": "GPU"
  },
  "cells": [
    {
      "cell_type": "code",
      "metadata": {
        "colab": {
          "base_uri": "https://localhost:8080/",
          "height": 35
        },
        "id": "Rfd6i9f-AyvQ",
        "outputId": "f9d79121-b69b-4952-d9f4-ca97f3aa86c0"
      },
      "source": [
        "# Simple CNN model for CIFAR-10\n",
        "import numpy\n",
        "import tensorflow as tf\n",
        "from keras.datasets import cifar10\n",
        "from keras.models import Sequential\n",
        "from keras.layers import Dense\n",
        "from keras.layers import Dropout\n",
        "from keras.layers import Flatten\n",
        "from keras.constraints import maxnorm\n",
        "from keras.optimizers import SGD\n",
        "from keras.layers.convolutional import Conv2D\n",
        "from keras.layers.convolutional import MaxPooling2D\n",
        "from keras.utils import np_utils\n",
        "from keras import backend as K\n",
        "K.image_data_format()"
      ],
      "execution_count": 1,
      "outputs": [
        {
          "output_type": "execute_result",
          "data": {
            "application/vnd.google.colaboratory.intrinsic+json": {
              "type": "string"
            },
            "text/plain": [
              "'channels_last'"
            ]
          },
          "metadata": {
            "tags": []
          },
          "execution_count": 1
        }
      ]
    },
    {
      "cell_type": "code",
      "metadata": {
        "colab": {
          "base_uri": "https://localhost:8080/"
        },
        "id": "dxKrC_6jMM1S",
        "outputId": "4166ec0a-2fc4-4d3c-ba23-8bc3f52c4d23"
      },
      "source": [
        "# Standard script to load GPU\n",
        "physical_devices = tf.config.experimental.list_physical_devices('GPU')\n",
        "print(\"Num GPUS Available: \", len(physical_devices))\n",
        "tf.config.experimental.set_memory_growth(physical_devices[0], True)\n",
        "\n",
        "device_name = tf.test.gpu_device_name()\n",
        "if device_name != '/device:GPU:0':\n",
        "  raise SystemError('GPU device not found')\n",
        "print('Found GPU at: {}'.format(device_name))"
      ],
      "execution_count": 2,
      "outputs": [
        {
          "output_type": "stream",
          "text": [
            "Num GPUS Available:  1\n",
            "Found GPU at: /device:GPU:0\n"
          ],
          "name": "stdout"
        }
      ]
    },
    {
      "cell_type": "code",
      "metadata": {
        "colab": {
          "base_uri": "https://localhost:8080/"
        },
        "id": "8_oytIFPA5-F",
        "outputId": "6404f97c-efe8-4f06-b45b-70094adcd581"
      },
      "source": [
        "#fix random seed for reproducibility\n",
        "seed = 7\n",
        "numpy.random.seed(seed)\n",
        "# load data\n",
        "(X_train, y_train), (X_test, y_test) = cifar10.load_data()\n",
        "# normalize inputs from 0-255 to 0.0-1.0\n",
        "X_train = X_train.astype('float32')\n",
        "X_test = X_test.astype('float32')\n",
        "X_train = X_train / 255.0\n",
        "X_test = X_test / 255.0\n",
        "# one hot encode outputs\n",
        "y_train = np_utils.to_categorical(y_train)\n",
        "y_test = np_utils.to_categorical(y_test)\n",
        "num_classes = y_test.shape[1]\n",
        "print(X_train.shape)"
      ],
      "execution_count": 3,
      "outputs": [
        {
          "output_type": "stream",
          "text": [
            "Downloading data from https://www.cs.toronto.edu/~kriz/cifar-10-python.tar.gz\n",
            "170500096/170498071 [==============================] - 2s 0us/step\n",
            "(50000, 32, 32, 3)\n"
          ],
          "name": "stdout"
        }
      ]
    },
    {
      "cell_type": "code",
      "metadata": {
        "id": "ru327elmA9cb"
      },
      "source": [
        "# Create the model\n",
        "model = Sequential()\n",
        "model.add(Conv2D(32, (3, 3), input_shape=(32,32,3), padding='same', activation='relu', kernel_constraint=maxnorm(3)))\n",
        "model.add(Dropout(0.2))\n",
        "model.add(Conv2D(32, (3, 3), activation='relu', padding='same', kernel_constraint=maxnorm(3)))\n",
        "model.add(MaxPooling2D(pool_size=(2, 2)))\n",
        "model.add(Flatten())\n",
        "model.add(Dense(512, activation='relu', kernel_constraint=maxnorm(3)))\n",
        "model.add(Dropout(0.5))\n",
        "model.add(Dense(num_classes, activation='softmax'))"
      ],
      "execution_count": 4,
      "outputs": []
    },
    {
      "cell_type": "code",
      "metadata": {
        "colab": {
          "base_uri": "https://localhost:8080/"
        },
        "id": "H7U5NYigBA01",
        "outputId": "cdde0fb2-49fa-4228-a913-bf3e29657f64"
      },
      "source": [
        "# Compile model\n",
        "with tf.device('/gpu:0'):\n",
        "  epochs = 25\n",
        "  lrate = 0.01\n",
        "  decay = lrate/epochs\n",
        "  sgd = SGD(lr=lrate, momentum=0.9, decay=decay, nesterov=False)\n",
        "  model.compile(loss='categorical_crossentropy', optimizer=sgd, metrics=['accuracy'])\n",
        "  print(model.summary())\n",
        "  # Fit the model\n",
        "  model.fit(X_train, y_train, validation_data=(X_test, y_test), epochs=epochs, batch_size=32)\n",
        "  # Final evaluation of the model\n",
        "  scores = model.evaluate(X_test, y_test, verbose=0)\n",
        "  print(\"Accuracy: %.2f%%\" % (scores[1]*100))"
      ],
      "execution_count": 6,
      "outputs": [
        {
          "output_type": "stream",
          "text": [
            "Model: \"sequential\"\n",
            "_________________________________________________________________\n",
            "Layer (type)                 Output Shape              Param #   \n",
            "=================================================================\n",
            "conv2d (Conv2D)              (None, 32, 32, 32)        896       \n",
            "_________________________________________________________________\n",
            "dropout (Dropout)            (None, 32, 32, 32)        0         \n",
            "_________________________________________________________________\n",
            "conv2d_1 (Conv2D)            (None, 32, 32, 32)        9248      \n",
            "_________________________________________________________________\n",
            "max_pooling2d (MaxPooling2D) (None, 16, 16, 32)        0         \n",
            "_________________________________________________________________\n",
            "flatten (Flatten)            (None, 8192)              0         \n",
            "_________________________________________________________________\n",
            "dense (Dense)                (None, 512)               4194816   \n",
            "_________________________________________________________________\n",
            "dropout_1 (Dropout)          (None, 512)               0         \n",
            "_________________________________________________________________\n",
            "dense_1 (Dense)              (None, 10)                5130      \n",
            "=================================================================\n",
            "Total params: 4,210,090\n",
            "Trainable params: 4,210,090\n",
            "Non-trainable params: 0\n",
            "_________________________________________________________________\n",
            "None\n",
            "Epoch 1/25\n",
            "1563/1563 [==============================] - 9s 6ms/step - loss: 1.9251 - accuracy: 0.3011 - val_loss: 1.4526 - val_accuracy: 0.4689\n",
            "Epoch 2/25\n",
            "1563/1563 [==============================] - 9s 5ms/step - loss: 1.4217 - accuracy: 0.4936 - val_loss: 1.2342 - val_accuracy: 0.5631\n",
            "Epoch 3/25\n",
            "1563/1563 [==============================] - 9s 5ms/step - loss: 1.2134 - accuracy: 0.5636 - val_loss: 1.1250 - val_accuracy: 0.5970\n",
            "Epoch 4/25\n",
            "1563/1563 [==============================] - 9s 6ms/step - loss: 1.0762 - accuracy: 0.6175 - val_loss: 1.0407 - val_accuracy: 0.6262\n",
            "Epoch 5/25\n",
            "1563/1563 [==============================] - 9s 6ms/step - loss: 0.9858 - accuracy: 0.6506 - val_loss: 0.9879 - val_accuracy: 0.6503\n",
            "Epoch 6/25\n",
            "1563/1563 [==============================] - 9s 5ms/step - loss: 0.8920 - accuracy: 0.6840 - val_loss: 0.9835 - val_accuracy: 0.6536\n",
            "Epoch 7/25\n",
            "1563/1563 [==============================] - 9s 5ms/step - loss: 0.8288 - accuracy: 0.7060 - val_loss: 0.9444 - val_accuracy: 0.6713\n",
            "Epoch 8/25\n",
            "1563/1563 [==============================] - 9s 5ms/step - loss: 0.7548 - accuracy: 0.7355 - val_loss: 0.9398 - val_accuracy: 0.6781\n",
            "Epoch 9/25\n",
            "1563/1563 [==============================] - 9s 5ms/step - loss: 0.6952 - accuracy: 0.7534 - val_loss: 0.9168 - val_accuracy: 0.6883\n",
            "Epoch 10/25\n",
            "1563/1563 [==============================] - 9s 6ms/step - loss: 0.6311 - accuracy: 0.7765 - val_loss: 0.9167 - val_accuracy: 0.6913\n",
            "Epoch 11/25\n",
            "1563/1563 [==============================] - 9s 6ms/step - loss: 0.5975 - accuracy: 0.7897 - val_loss: 0.9107 - val_accuracy: 0.6966\n",
            "Epoch 12/25\n",
            "1563/1563 [==============================] - 9s 5ms/step - loss: 0.5469 - accuracy: 0.8071 - val_loss: 0.9290 - val_accuracy: 0.6972\n",
            "Epoch 13/25\n",
            "1563/1563 [==============================] - 9s 5ms/step - loss: 0.5141 - accuracy: 0.8196 - val_loss: 0.9466 - val_accuracy: 0.6958\n",
            "Epoch 14/25\n",
            "1563/1563 [==============================] - 9s 6ms/step - loss: 0.4698 - accuracy: 0.8351 - val_loss: 0.9349 - val_accuracy: 0.7008\n",
            "Epoch 15/25\n",
            "1563/1563 [==============================] - 9s 5ms/step - loss: 0.4403 - accuracy: 0.8442 - val_loss: 0.9386 - val_accuracy: 0.6998\n",
            "Epoch 16/25\n",
            "1563/1563 [==============================] - 9s 6ms/step - loss: 0.4126 - accuracy: 0.8528 - val_loss: 0.9654 - val_accuracy: 0.6988\n",
            "Epoch 17/25\n",
            "1563/1563 [==============================] - 9s 6ms/step - loss: 0.3866 - accuracy: 0.8656 - val_loss: 0.9627 - val_accuracy: 0.7035\n",
            "Epoch 18/25\n",
            "1563/1563 [==============================] - 9s 6ms/step - loss: 0.3654 - accuracy: 0.8696 - val_loss: 0.9934 - val_accuracy: 0.7013\n",
            "Epoch 19/25\n",
            "1563/1563 [==============================] - 9s 5ms/step - loss: 0.3341 - accuracy: 0.8835 - val_loss: 0.9970 - val_accuracy: 0.7040\n",
            "Epoch 20/25\n",
            "1563/1563 [==============================] - 9s 6ms/step - loss: 0.3245 - accuracy: 0.8874 - val_loss: 1.0056 - val_accuracy: 0.7053\n",
            "Epoch 21/25\n",
            "1563/1563 [==============================] - 9s 5ms/step - loss: 0.3100 - accuracy: 0.8930 - val_loss: 1.0071 - val_accuracy: 0.7076\n",
            "Epoch 22/25\n",
            "1563/1563 [==============================] - 9s 5ms/step - loss: 0.2931 - accuracy: 0.8977 - val_loss: 1.0247 - val_accuracy: 0.7064\n",
            "Epoch 23/25\n",
            "1563/1563 [==============================] - 9s 5ms/step - loss: 0.2791 - accuracy: 0.9031 - val_loss: 1.0398 - val_accuracy: 0.7081\n",
            "Epoch 24/25\n",
            "1563/1563 [==============================] - 9s 6ms/step - loss: 0.2705 - accuracy: 0.9039 - val_loss: 1.0304 - val_accuracy: 0.7054\n",
            "Epoch 25/25\n",
            "1563/1563 [==============================] - 9s 6ms/step - loss: 0.2532 - accuracy: 0.9125 - val_loss: 1.0606 - val_accuracy: 0.7100\n",
            "Accuracy: 71.00%\n"
          ],
          "name": "stdout"
        }
      ]
    }
  ]
}