{
  "nbformat": 4,
  "nbformat_minor": 0,
  "metadata": {
    "colab": {
      "name": "ICP11_1",
      "provenance": []
    },
    "kernelspec": {
      "name": "python3",
      "display_name": "Python 3"
    },
    "language_info": {
      "name": "python"
    },
    "accelerator": "GPU"
  },
  "cells": [
    {
      "cell_type": "code",
      "metadata": {
        "colab": {
          "base_uri": "https://localhost:8080/",
          "height": 35
        },
        "id": "VprTgWGkPWD0",
        "outputId": "1e7061d7-534b-46a0-d7b0-67c9226543de"
      },
      "source": [
        "# Simple CNN model for CIFAR-10\n",
        "import numpy\n",
        "import tensorflow as tf\n",
        "from keras.datasets import cifar10\n",
        "from keras.models import Sequential\n",
        "from keras.layers import Dense\n",
        "from keras.layers import Dropout\n",
        "from keras.layers import Flatten\n",
        "from keras.constraints import maxnorm\n",
        "from keras.optimizers import SGD\n",
        "from keras.layers.convolutional import Conv2D\n",
        "from keras.layers.convolutional import MaxPooling2D\n",
        "from keras.utils import np_utils\n",
        "from keras import backend as K\n",
        "\n",
        "\n",
        "K.image_data_format()"
      ],
      "execution_count": 1,
      "outputs": [
        {
          "output_type": "execute_result",
          "data": {
            "application/vnd.google.colaboratory.intrinsic+json": {
              "type": "string"
            },
            "text/plain": [
              "'channels_last'"
            ]
          },
          "metadata": {
            "tags": []
          },
          "execution_count": 1
        }
      ]
    },
    {
      "cell_type": "markdown",
      "metadata": {
        "id": "S3Zzy5mBmpJh"
      },
      "source": [
        "We load in a GPU as it's very much needed and   \n",
        "find it's location"
      ]
    },
    {
      "cell_type": "code",
      "metadata": {
        "colab": {
          "base_uri": "https://localhost:8080/"
        },
        "id": "kIuYn7kiPaNh",
        "outputId": "f88279f4-a232-4c15-9f38-b9358c56fbcc"
      },
      "source": [
        "# Standard script to load GPU\n",
        "physical_devices = tf.config.experimental.list_physical_devices('GPU')\n",
        "print(\"Num GPUS Available: \", len(physical_devices))\n",
        "tf.config.experimental.set_memory_growth(physical_devices[0], True)\n",
        "\n",
        "device_name = tf.test.gpu_device_name()\n",
        "if device_name != '/device:GPU:0':\n",
        "  raise SystemError('GPU device not found')\n",
        "print('Found GPU at: {}'.format(device_name))"
      ],
      "execution_count": 2,
      "outputs": [
        {
          "output_type": "stream",
          "text": [
            "Num GPUS Available:  1\n",
            "Found GPU at: /device:GPU:0\n"
          ],
          "name": "stdout"
        }
      ]
    },
    {
      "cell_type": "markdown",
      "metadata": {
        "id": "DBRAT_nAm1Kd"
      },
      "source": [
        "We load, split, an then preprocess the train and test datasets"
      ]
    },
    {
      "cell_type": "code",
      "metadata": {
        "colab": {
          "base_uri": "https://localhost:8080/"
        },
        "id": "7CyzVblSPcAG",
        "outputId": "3cd3a497-aad5-4b1f-f706-da3d9998c874"
      },
      "source": [
        "#fix random seed for reproducibility\n",
        "seed = 7\n",
        "numpy.random.seed(seed)\n",
        "# load data\n",
        "(X_train, y_train), (X_test, y_test) = cifar10.load_data()\n",
        "# normalize inputs from 0-255 to 0.0-1.0\n",
        "X_train = X_train.astype('float32')\n",
        "X_test = X_test.astype('float32')\n",
        "X_train = X_train / 255.0\n",
        "X_test = X_test / 255.0\n",
        "# one hot encode outputs\n",
        "y_train = np_utils.to_categorical(y_train)\n",
        "y_test = np_utils.to_categorical(y_test)\n",
        "num_classes = y_test.shape[1]\n",
        "# We check the shapes of our datasets to get proper dimensions\n",
        "print(X_train.shape)\n",
        "print(y_test.shape[1])"
      ],
      "execution_count": 3,
      "outputs": [
        {
          "output_type": "stream",
          "text": [
            "Downloading data from https://www.cs.toronto.edu/~kriz/cifar-10-python.tar.gz\n",
            "170500096/170498071 [==============================] - 2s 0us/step\n",
            "(50000, 32, 32, 3)\n",
            "10\n"
          ],
          "name": "stdout"
        }
      ]
    },
    {
      "cell_type": "markdown",
      "metadata": {
        "id": "oo-j2j8jnK86"
      },
      "source": [
        "We update the model to have more convolutional layers that become more rebust and alternate Maxpooling to identify key features and Dropout to add random noise."
      ]
    },
    {
      "cell_type": "code",
      "metadata": {
        "id": "Uyhuaao1PexB"
      },
      "source": [
        "# Create the model\n",
        "model = Sequential()\n",
        "model.add(Conv2D(32, (3, 3), input_shape=(32,32,3), padding='same', activation='relu', kernel_constraint=maxnorm(3)))\n",
        "model.add(Dropout(0.2))\n",
        "model.add(Conv2D(32, (3, 3), activation='relu', padding='same', kernel_constraint=maxnorm(3)))\n",
        "model.add(MaxPooling2D(pool_size=(2, 2)))\n",
        "model.add(Conv2D(64, (3, 3), activation='relu', padding='same', kernel_constraint=maxnorm(3)))\n",
        "model.add(Dropout(0.2))\n",
        "model.add(Conv2D(64, (3, 3), activation='relu', padding='same', kernel_constraint=maxnorm(3)))\n",
        "model.add(MaxPooling2D(pool_size=(2, 2)))\n",
        "model.add(Conv2D(128, (3, 3), activation='relu', padding='same', kernel_constraint=maxnorm(3)))\n",
        "model.add(Dropout(0.2))\n",
        "model.add(Conv2D(128, (3, 3), activation='relu', padding='same', kernel_constraint=maxnorm(3)))\n",
        "model.add(MaxPooling2D(pool_size=(2, 2)))\n",
        "model.add(Flatten())\n",
        "model.add(Dropout(0.2))\n",
        "model.add(Dense(1024, activation='relu', kernel_constraint=maxnorm(3)))\n",
        "model.add(Dropout(0.2))\n",
        "model.add(Dense(512, activation='relu', kernel_constraint=maxnorm(3)))\n",
        "model.add(Dropout(0.2))\n",
        "model.add(Dense(num_classes, activation='softmax'))\n"
      ],
      "execution_count": 5,
      "outputs": []
    },
    {
      "cell_type": "code",
      "metadata": {
        "colab": {
          "base_uri": "https://localhost:8080/"
        },
        "id": "DI6JG81fPh_V",
        "outputId": "b2453140-b3c5-405d-b1bf-7385736c3331"
      },
      "source": [
        "# Compile model\n",
        "with tf.device('/gpu:0'):\n",
        "  epochs = 25\n",
        "  lrate = 0.01\n",
        "  decay = lrate/epochs\n",
        "  sgd = SGD(lr=lrate, momentum=0.9, decay=decay, nesterov=False)\n",
        "  model.compile(loss='categorical_crossentropy', optimizer=sgd, metrics=['accuracy'])\n",
        "  print(model.summary())\n",
        "  # Fit the model\n",
        "  history = model.fit(X_train, y_train, validation_data=(X_test, y_test), epochs=epochs, batch_size=32)\n",
        "  # Final evaluation of the model\n",
        "  scores = model.evaluate(X_test, y_test, verbose=0)\n",
        "  print(\"Accuracy: %.2f%%\" % (scores[1]*100))"
      ],
      "execution_count": 7,
      "outputs": [
        {
          "output_type": "stream",
          "text": [
            "Model: \"sequential_1\"\n",
            "_________________________________________________________________\n",
            "Layer (type)                 Output Shape              Param #   \n",
            "=================================================================\n",
            "conv2d_6 (Conv2D)            (None, 32, 32, 32)        896       \n",
            "_________________________________________________________________\n",
            "dropout_6 (Dropout)          (None, 32, 32, 32)        0         \n",
            "_________________________________________________________________\n",
            "conv2d_7 (Conv2D)            (None, 32, 32, 32)        9248      \n",
            "_________________________________________________________________\n",
            "max_pooling2d_3 (MaxPooling2 (None, 16, 16, 32)        0         \n",
            "_________________________________________________________________\n",
            "conv2d_8 (Conv2D)            (None, 16, 16, 64)        18496     \n",
            "_________________________________________________________________\n",
            "dropout_7 (Dropout)          (None, 16, 16, 64)        0         \n",
            "_________________________________________________________________\n",
            "conv2d_9 (Conv2D)            (None, 16, 16, 64)        36928     \n",
            "_________________________________________________________________\n",
            "max_pooling2d_4 (MaxPooling2 (None, 8, 8, 64)          0         \n",
            "_________________________________________________________________\n",
            "conv2d_10 (Conv2D)           (None, 8, 8, 128)         73856     \n",
            "_________________________________________________________________\n",
            "dropout_8 (Dropout)          (None, 8, 8, 128)         0         \n",
            "_________________________________________________________________\n",
            "conv2d_11 (Conv2D)           (None, 8, 8, 128)         147584    \n",
            "_________________________________________________________________\n",
            "max_pooling2d_5 (MaxPooling2 (None, 4, 4, 128)         0         \n",
            "_________________________________________________________________\n",
            "flatten_1 (Flatten)          (None, 2048)              0         \n",
            "_________________________________________________________________\n",
            "dropout_9 (Dropout)          (None, 2048)              0         \n",
            "_________________________________________________________________\n",
            "dense_3 (Dense)              (None, 1024)              2098176   \n",
            "_________________________________________________________________\n",
            "dropout_10 (Dropout)         (None, 1024)              0         \n",
            "_________________________________________________________________\n",
            "dense_4 (Dense)              (None, 512)               524800    \n",
            "_________________________________________________________________\n",
            "dropout_11 (Dropout)         (None, 512)               0         \n",
            "_________________________________________________________________\n",
            "dense_5 (Dense)              (None, 10)                5130      \n",
            "=================================================================\n",
            "Total params: 2,915,114\n",
            "Trainable params: 2,915,114\n",
            "Non-trainable params: 0\n",
            "_________________________________________________________________\n",
            "None\n",
            "Epoch 1/25\n",
            "1563/1563 [==============================] - 13s 8ms/step - loss: 2.2637 - accuracy: 0.1331 - val_loss: 1.8552 - val_accuracy: 0.3317\n",
            "Epoch 2/25\n",
            "1563/1563 [==============================] - 11s 7ms/step - loss: 1.7267 - accuracy: 0.3679 - val_loss: 1.4177 - val_accuracy: 0.4874\n",
            "Epoch 3/25\n",
            "1563/1563 [==============================] - 11s 7ms/step - loss: 1.4066 - accuracy: 0.4897 - val_loss: 1.3035 - val_accuracy: 0.5155\n",
            "Epoch 4/25\n",
            "1563/1563 [==============================] - 11s 7ms/step - loss: 1.2438 - accuracy: 0.5502 - val_loss: 1.1614 - val_accuracy: 0.5891\n",
            "Epoch 5/25\n",
            "1563/1563 [==============================] - 11s 7ms/step - loss: 1.1127 - accuracy: 0.6022 - val_loss: 1.0871 - val_accuracy: 0.6049\n",
            "Epoch 6/25\n",
            "1563/1563 [==============================] - 11s 7ms/step - loss: 1.0190 - accuracy: 0.6384 - val_loss: 0.9398 - val_accuracy: 0.6684\n",
            "Epoch 7/25\n",
            "1563/1563 [==============================] - 11s 7ms/step - loss: 0.9366 - accuracy: 0.6689 - val_loss: 0.9274 - val_accuracy: 0.6670\n",
            "Epoch 8/25\n",
            "1563/1563 [==============================] - 11s 7ms/step - loss: 0.8646 - accuracy: 0.6946 - val_loss: 0.8339 - val_accuracy: 0.7063\n",
            "Epoch 9/25\n",
            "1563/1563 [==============================] - 11s 7ms/step - loss: 0.8034 - accuracy: 0.7134 - val_loss: 0.8443 - val_accuracy: 0.7063\n",
            "Epoch 10/25\n",
            "1563/1563 [==============================] - 11s 7ms/step - loss: 0.7574 - accuracy: 0.7296 - val_loss: 0.7805 - val_accuracy: 0.7280\n",
            "Epoch 11/25\n",
            "1563/1563 [==============================] - 11s 7ms/step - loss: 0.7125 - accuracy: 0.7478 - val_loss: 0.7567 - val_accuracy: 0.7351\n",
            "Epoch 12/25\n",
            "1563/1563 [==============================] - 11s 7ms/step - loss: 0.6834 - accuracy: 0.7612 - val_loss: 0.7375 - val_accuracy: 0.7442\n",
            "Epoch 13/25\n",
            "1563/1563 [==============================] - 11s 7ms/step - loss: 0.6394 - accuracy: 0.7716 - val_loss: 0.7297 - val_accuracy: 0.7462\n",
            "Epoch 14/25\n",
            "1563/1563 [==============================] - 11s 7ms/step - loss: 0.6178 - accuracy: 0.7813 - val_loss: 0.7105 - val_accuracy: 0.7550\n",
            "Epoch 15/25\n",
            "1563/1563 [==============================] - 11s 7ms/step - loss: 0.5806 - accuracy: 0.7919 - val_loss: 0.6980 - val_accuracy: 0.7557\n",
            "Epoch 16/25\n",
            "1563/1563 [==============================] - 11s 7ms/step - loss: 0.5748 - accuracy: 0.7966 - val_loss: 0.6927 - val_accuracy: 0.7603\n",
            "Epoch 17/25\n",
            "1563/1563 [==============================] - 12s 7ms/step - loss: 0.5449 - accuracy: 0.8062 - val_loss: 0.6737 - val_accuracy: 0.7677\n",
            "Epoch 18/25\n",
            "1563/1563 [==============================] - 12s 7ms/step - loss: 0.5243 - accuracy: 0.8144 - val_loss: 0.6772 - val_accuracy: 0.7655\n",
            "Epoch 19/25\n",
            "1563/1563 [==============================] - 12s 7ms/step - loss: 0.5033 - accuracy: 0.8215 - val_loss: 0.6615 - val_accuracy: 0.7727\n",
            "Epoch 20/25\n",
            "1563/1563 [==============================] - 12s 7ms/step - loss: 0.4863 - accuracy: 0.8285 - val_loss: 0.6602 - val_accuracy: 0.7745\n",
            "Epoch 21/25\n",
            "1563/1563 [==============================] - 12s 7ms/step - loss: 0.4766 - accuracy: 0.8285 - val_loss: 0.6536 - val_accuracy: 0.7773\n",
            "Epoch 22/25\n",
            "1563/1563 [==============================] - 12s 7ms/step - loss: 0.4533 - accuracy: 0.8395 - val_loss: 0.6607 - val_accuracy: 0.7742\n",
            "Epoch 23/25\n",
            "1563/1563 [==============================] - 12s 7ms/step - loss: 0.4425 - accuracy: 0.8420 - val_loss: 0.6499 - val_accuracy: 0.7810\n",
            "Epoch 24/25\n",
            "1563/1563 [==============================] - 12s 7ms/step - loss: 0.4219 - accuracy: 0.8483 - val_loss: 0.6443 - val_accuracy: 0.7794\n",
            "Epoch 25/25\n",
            "1563/1563 [==============================] - 11s 7ms/step - loss: 0.4145 - accuracy: 0.8521 - val_loss: 0.6476 - val_accuracy: 0.7812\n",
            "Accuracy: 78.12%\n"
          ],
          "name": "stdout"
        }
      ]
    },
    {
      "cell_type": "markdown",
      "metadata": {
        "id": "qZYHflHHnyUv"
      },
      "source": [
        "Here we then present individual images to run across our model to test it's accuracy on a case by case basis"
      ]
    },
    {
      "cell_type": "code",
      "metadata": {
        "colab": {
          "base_uri": "https://localhost:8080/",
          "height": 298
        },
        "id": "cVGSXaB8SrI_",
        "outputId": "a8396815-350b-4aa0-ebb8-608620d065db"
      },
      "source": [
        "import matplotlib.pyplot as plt\n",
        "import numpy as np\n",
        "\n",
        "plt.imshow(X_test[0,:,:],cmap='gray')\n",
        "plt.title('Actual index : {}'.format(y_test[0]))\n",
        "print(\"  Predicted index: \",np.argmax(model.predict(X_test[0,:,:].reshape(-1,32,32,3))))"
      ],
      "execution_count": 16,
      "outputs": [
        {
          "output_type": "stream",
          "text": [
            "  Predicted index:  5\n"
          ],
          "name": "stdout"
        },
        {
          "output_type": "display_data",
          "data": {
            "image/png": "[encoded data removed]",
            "text/plain": [
              "<Figure size 432x288 with 1 Axes>"
            ]
          },
          "metadata": {
            "tags": [],
            "needs_background": "light"
          }
        }
      ]
    },
    {
      "cell_type": "code",
      "metadata": {
        "colab": {
          "base_uri": "https://localhost:8080/",
          "height": 298
        },
        "id": "PQRTyN1YhN4_",
        "outputId": "c2bfafcf-87e1-4f73-e094-fb474bdd1ddb"
      },
      "source": [
        "plt.imshow(X_test[1,:,:],cmap='gray')\n",
        "plt.title('Actual index : {}'.format(y_test[1]))\n",
        "print(\"  Predicted index: \",np.argmax(model.predict(X_test[1,:,:].reshape(-1,32,32,3))))"
      ],
      "execution_count": 9,
      "outputs": [
        {
          "output_type": "stream",
          "text": [
            "  Predicted index:  8\n"
          ],
          "name": "stdout"
        },
        {
          "output_type": "display_data",
          "data": {
            "image/png": "[encoded data removed]",
            "text/plain": [
              "<Figure size 432x288 with 1 Axes>"
            ]
          },
          "metadata": {
            "tags": [],
            "needs_background": "light"
          }
        }
      ]
    },
    {
      "cell_type": "code",
      "metadata": {
        "colab": {
          "base_uri": "https://localhost:8080/",
          "height": 298
        },
        "id": "_-zvNkRehYiz",
        "outputId": "df5bdab6-6283-46eb-d948-9ba3e5822ff5"
      },
      "source": [
        "plt.imshow(X_test[2,:,:],cmap='gray')\n",
        "plt.title('Actual index : {}'.format(y_test[2]))\n",
        "print(\"  Predicted index: \",np.argmax(model.predict(X_test[2,:,:].reshape(-1,32,32,3))))"
      ],
      "execution_count": 10,
      "outputs": [
        {
          "output_type": "stream",
          "text": [
            "  Predicted index:  8\n"
          ],
          "name": "stdout"
        },
        {
          "output_type": "display_data",
          "data": {
            "image/png": "[encoded data removed]",
            "text/plain": [
              "<Figure size 432x288 with 1 Axes>"
            ]
          },
          "metadata": {
            "tags": [],
            "needs_background": "light"
          }
        }
      ]
    },
    {
      "cell_type": "code",
      "metadata": {
        "colab": {
          "base_uri": "https://localhost:8080/",
          "height": 298
        },
        "id": "dY6kvmneh0XP",
        "outputId": "0e720e92-814b-4e90-8474-f8f56a207ec0"
      },
      "source": [
        "plt.imshow(X_test[3,:,:],cmap='gray')\n",
        "plt.title('Actual index : {}'.format(y_test[3]))\n",
        "print(\"  Predicted index: \",np.argmax(model.predict(X_test[3,:,:].reshape(-1,32,32,3))))"
      ],
      "execution_count": 14,
      "outputs": [
        {
          "output_type": "stream",
          "text": [
            "  Predicted index:  0\n"
          ],
          "name": "stdout"
        },
        {
          "output_type": "display_data",
          "data": {
            "image/png": "[encoded data removed]",
            "text/plain": [
              "<Figure size 432x288 with 1 Axes>"
            ]
          },
          "metadata": {
            "tags": [],
            "needs_background": "light"
          }
        }
      ]
    },
    {
      "cell_type": "markdown",
      "metadata": {
        "id": "1HyW1DbaoS85"
      },
      "source": [
        "Finally using the history object we plot the pregression of the model over the amount of epochs"
      ]
    },
    {
      "cell_type": "code",
      "metadata": {
        "colab": {
          "base_uri": "https://localhost:8080/",
          "height": 590
        },
        "id": "P6f4JuGqi7J_",
        "outputId": "06bd8652-94d8-4cc5-afdc-34bbabae2043"
      },
      "source": [
        "print(history.history.keys())\n",
        "# summarize history for accuracy\n",
        "plt.plot(history.history['accuracy'])\n",
        "plt.plot(history.history['val_accuracy'])\n",
        "plt.title('model accuracy')\n",
        "plt.ylabel('accuracy')\n",
        "plt.xlabel('epoch')\n",
        "plt.legend(['train', 'validation'], loc='upper left')\n",
        "plt.show()\n",
        "# summarize history for loss\n",
        "plt.plot(history.history['loss'])\n",
        "plt.plot(history.history['val_loss'])\n",
        "plt.title('model loss')\n",
        "plt.ylabel('loss')\n",
        "plt.xlabel('epoch')\n",
        "plt.legend(['train', 'validation'], loc='upper left')\n",
        "plt.show()"
      ],
      "execution_count": 12,
      "outputs": [
        {
          "output_type": "stream",
          "text": [
            "dict_keys(['loss', 'accuracy', 'val_loss', 'val_accuracy'])\n"
          ],
          "name": "stdout"
        },
        {
          "output_type": "display_data",
          "data": {
            "image/png": "[encoded data removed]",
            "text/plain": [
              "<Figure size 432x288 with 1 Axes>"
            ]
          },
          "metadata": {
            "tags": [],
            "needs_background": "light"
          }
        },
        {
          "output_type": "display_data",
          "data": {
            "image/png": "[encoded data removed]",
            "text/plain": [
              "<Figure size 432x288 with 1 Axes>"
            ]
          },
          "metadata": {
            "tags": [],
            "needs_background": "light"
          }
        }
      ]
    }
  ]
}