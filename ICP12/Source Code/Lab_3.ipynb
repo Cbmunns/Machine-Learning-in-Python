{
  "nbformat": 4,
  "nbformat_minor": 0,
  "metadata": {
    "colab": {
      "name": "Lab 3",
      "provenance": []
    },
    "kernelspec": {
      "name": "python3",
      "display_name": "Python 3"
    },
    "language_info": {
      "name": "python"
    },
    "accelerator": "GPU"
  },
  "cells": [
    {
      "cell_type": "code",
      "metadata": {
        "id": "Bv-4OCggdFJE"
      },
      "source": [
        "import pandas as pd # data processing, CSV file I/O (e.g. pd.read_csv)\n",
        "from keras.preprocessing.text import Tokenizer\n",
        "from keras.preprocessing.sequence import pad_sequences\n",
        "from keras.models import Sequential\n",
        "from keras.layers import Dense, Embedding, LSTM, SpatialDropout1D\n",
        "from matplotlib import pyplot\n",
        "from sklearn.model_selection import train_test_split\n",
        "from keras.utils.np_utils import to_categorical\n",
        "import re\n",
        "import tensorflow as tf\n",
        "from keras.models import load_model\n",
        "\n",
        "\n",
        "from sklearn.preprocessing import LabelEncoder"
      ],
      "execution_count": 9,
      "outputs": []
    },
    {
      "cell_type": "code",
      "metadata": {
        "colab": {
          "base_uri": "https://localhost:8080/"
        },
        "id": "I52o6kF5eMI_",
        "outputId": "ccd5fb5c-9dbe-4c0c-f6bb-a3251cb6fa6b"
      },
      "source": [
        "# Standard script to load GPU\n",
        "physical_devices = tf.config.experimental.list_physical_devices('GPU')\n",
        "print(\"Num GPUS Available: \", len(physical_devices))\n",
        "tf.config.experimental.set_memory_growth(physical_devices[0], True)\n",
        "\n",
        "device_name = tf.test.gpu_device_name()\n",
        "if device_name != '/device:GPU:0':\n",
        "  raise SystemError('GPU device not found')\n",
        "print('Found GPU at: {}'.format(device_name))"
      ],
      "execution_count": 10,
      "outputs": [
        {
          "output_type": "stream",
          "text": [
            "Num GPUS Available:  1\n",
            "Found GPU at: /device:GPU:0\n"
          ],
          "name": "stdout"
        }
      ]
    },
    {
      "cell_type": "code",
      "metadata": {
        "colab": {
          "base_uri": "https://localhost:8080/"
        },
        "id": "IhFNSrfGeQv6",
        "outputId": "94669467-888f-48e9-ed6d-8398fd40f108"
      },
      "source": [
        "data = pd.read_csv('spam.csv', encoding='ISO-8859-1')\n",
        "# Keeping only the neccessary columns\n",
        "data = data[['v2','v1']]\n",
        "print(data)\n",
        "data['v2'] = data['v2'].apply(lambda x: x.lower())\n",
        "data['v2'] = data['v2'].apply((lambda x: re.sub('[^a-zA-z0-9\\s]', '', x)))\n",
        "\n",
        "print(data)"
      ],
      "execution_count": 11,
      "outputs": [
        {
          "output_type": "stream",
          "text": [
            "                                                     v2    v1\n",
            "0     Go until jurong point, crazy.. Available only ...   ham\n",
            "1                         Ok lar... Joking wif u oni...   ham\n",
            "2     Free entry in 2 a wkly comp to win FA Cup fina...  spam\n",
            "3     U dun say so early hor... U c already then say...   ham\n",
            "4     Nah I don't think he goes to usf, he lives aro...   ham\n",
            "...                                                 ...   ...\n",
            "5567  This is the 2nd time we have tried 2 contact u...  spam\n",
            "5568              Will Ì_ b going to esplanade fr home?   ham\n",
            "5569  Pity, * was in mood for that. So...any other s...   ham\n",
            "5570  The guy did some bitching but I acted like i'd...   ham\n",
            "5571                         Rofl. Its true to its name   ham\n",
            "\n",
            "[5572 rows x 2 columns]\n",
            "                                                     v2    v1\n",
            "0     go until jurong point crazy available only in ...   ham\n",
            "1                               ok lar joking wif u oni   ham\n",
            "2     free entry in 2 a wkly comp to win fa cup fina...  spam\n",
            "3           u dun say so early hor u c already then say   ham\n",
            "4     nah i dont think he goes to usf he lives aroun...   ham\n",
            "...                                                 ...   ...\n",
            "5567  this is the 2nd time we have tried 2 contact u...  spam\n",
            "5568                will _ b going to esplanade fr home   ham\n",
            "5569  pity  was in mood for that soany other suggest...   ham\n",
            "5570  the guy did some bitching but i acted like id ...   ham\n",
            "5571                          rofl its true to its name   ham\n",
            "\n",
            "[5572 rows x 2 columns]\n"
          ],
          "name": "stdout"
        }
      ]
    },
    {
      "cell_type": "code",
      "metadata": {
        "colab": {
          "base_uri": "https://localhost:8080/"
        },
        "id": "qKclNFrYeZaB",
        "outputId": "ffb82749-a4e5-4cc6-b1eb-7ba3cd3958b0"
      },
      "source": [
        "print(data)\n",
        "max_fatures = 2000\n",
        "tokenizer = Tokenizer(num_words=max_fatures, split=' ')\n",
        "tokenizer.fit_on_texts(data['v2'].values)\n",
        "X = tokenizer.texts_to_sequences(data['v2'].values)\n",
        "\n",
        "X = pad_sequences(X)\n",
        "\n",
        "print(X[0])"
      ],
      "execution_count": 13,
      "outputs": [
        {
          "output_type": "stream",
          "text": [
            "                                                     v2    v1\n",
            "0     go until jurong point crazy available only in ...   ham\n",
            "1                               ok lar joking wif u oni   ham\n",
            "2     free entry in 2 a wkly comp to win fa cup fina...  spam\n",
            "3           u dun say so early hor u c already then say   ham\n",
            "4     nah i dont think he goes to usf he lives aroun...   ham\n",
            "...                                                 ...   ...\n",
            "5567  this is the 2nd time we have tried 2 contact u...  spam\n",
            "5568                will _ b going to esplanade fr home   ham\n",
            "5569  pity  was in mood for that soany other suggest...   ham\n",
            "5570  the guy did some bitching but i acted like id ...   ham\n",
            "5571                          rofl its true to its name   ham\n",
            "\n",
            "[5572 rows x 2 columns]\n",
            "[   0    0    0    0    0    0    0    0    0    0    0    0    0    0\n",
            "    0    0    0    0    0    0    0    0    0    0    0    0    0    0\n",
            "    0    0    0    0    0    0    0    0    0    0    0    0    0    0\n",
            "    0    0    0    0    0    0    0    0    0    0    0    0    0    0\n",
            "    0    0    0    0    0    0    0    0    0    0    0    0    0    0\n",
            "    0    0    0    0    0    0    0    0    0    0    0    0    0    0\n",
            "    0    0    0    0    0    0    0    0    0    0    0    0    0    0\n",
            "    0    0    0    0    0    0    0    0    0    0    0    0    0    0\n",
            "    0    0    0    0    0    0    0    0    0    0    0    0    0    0\n",
            "    0    0    0    0    0    0    0    0    0   47  445  800  717  684\n",
            "   64    9 1250   90  119  361 1251  149 1252   67   58  137]\n"
          ],
          "name": "stdout"
        }
      ]
    },
    {
      "cell_type": "code",
      "metadata": {
        "id": "2iII95rjegd-"
      },
      "source": [
        "embed_dim = 128\n",
        "lstm_out = 196\n",
        "def createmodel():\n",
        "    model = Sequential()\n",
        "    model.add(Embedding(max_fatures, embed_dim,input_length = X.shape[1]))\n",
        "    model.add(LSTM(lstm_out, dropout=0.2, recurrent_dropout=0.2))\n",
        "    model.add(Dense(2,activation='softmax'))\n",
        "    model.compile(loss = 'categorical_crossentropy', optimizer='adam',metrics = ['accuracy'])\n",
        "    return model\n",
        "# print(model.summary())"
      ],
      "execution_count": 15,
      "outputs": []
    },
    {
      "cell_type": "code",
      "metadata": {
        "colab": {
          "base_uri": "https://localhost:8080/"
        },
        "id": "_sUmzdlmelAf",
        "outputId": "e4eab0ed-28d1-435d-ad32-954a449ce7d8"
      },
      "source": [
        "labelencoder = LabelEncoder()\n",
        "integer_encoded = labelencoder.fit_transform(data['v1'])\n",
        "y = to_categorical(integer_encoded)\n",
        "# Find how Hot encoding \n",
        "print(y[1], \" Is Ham\")\n",
        "print(y[2], \" Is Spam\")\n",
        "\n",
        "X_train, X_test, Y_train, Y_test = train_test_split(X,y, test_size = 0.33, random_state = 42)"
      ],
      "execution_count": 20,
      "outputs": [
        {
          "output_type": "stream",
          "text": [
            "[1. 0.]  Is Ham\n",
            "[0. 1.]  Is Spam\n"
          ],
          "name": "stdout"
        }
      ]
    },
    {
      "cell_type": "code",
      "metadata": {
        "colab": {
          "base_uri": "https://localhost:8080/"
        },
        "id": "HR9U3riEewiW",
        "outputId": "dc3a8aee-69dc-4ced-94e1-d6f8888244c8"
      },
      "source": [
        "  batch_size = 30\n",
        "  epoch = 1\n",
        "  with tf.device('/gpu:0'):\n",
        "    model = createmodel()\n",
        "    model.fit(X_train, Y_train, epochs = epoch, batch_size=batch_size, verbose = 2)\n",
        "    score,acc = model.evaluate(X_test,Y_test,verbose=2,batch_size=batch_size)\n",
        "    print('The loss: ',score)\n",
        "    print('The accuracy: ',acc)\n",
        "    print(model.metrics_names)\n"
      ],
      "execution_count": 28,
      "outputs": [
        {
          "output_type": "stream",
          "text": [
            "WARNING:tensorflow:Layer lstm_4 will not use cuDNN kernel since it doesn't meet the cuDNN kernel criteria. It will use generic GPU kernel as fallback when running on GPU\n",
            "125/125 - 63s - loss: 0.1559 - accuracy: 0.9467\n",
            "62/62 - 2s - loss: 0.0664 - accuracy: 0.9826\n",
            "The loss:  0.06643752753734589\n",
            "The accuracy:  0.9825992584228516\n",
            "['loss', 'accuracy']\n"
          ],
          "name": "stdout"
        }
      ]
    }
  ]
}